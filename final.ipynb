{
 "cells": [
  {
   "cell_type": "code",
   "execution_count": 1,
   "metadata": {
    "collapsed": true
   },
   "outputs": [],
   "source": [
    "import pandas as pd\n",
    "import seaborn as sns"
   ]
  },
  {
   "cell_type": "code",
   "execution_count": 2,
   "metadata": {
    "collapsed": true
   },
   "outputs": [],
   "source": [
    "train_reviews = pd.read_csv(\"yelp_review.csv\")"
   ]
  },
  {
   "cell_type": "code",
   "execution_count": 3,
   "metadata": {
    "collapsed": true
   },
   "outputs": [],
   "source": [
    "train_users = pd.read_csv(\"yelp_user.csv\")\n",
    "train_checkins = pd.read_csv(\"yelp_checkin.csv\")\n",
    "train_tips = pd.read_csv(\"yelp_tip.csv\")"
   ]
  },
  {
   "cell_type": "code",
   "execution_count": 4,
   "metadata": {
    "collapsed": true
   },
   "outputs": [],
   "source": [
    "train_businesses = pd.read_csv(\"yelp_business.csv\")\n",
    "train_business_attributes = pd.read_csv(\"yelp_business_attributes.csv\")\n",
    "train_business_hours = pd.read_csv(\"yelp_business_hours.csv\")"
   ]
  },
  {
   "cell_type": "code",
   "execution_count": 5,
   "metadata": {
    "collapsed": true
   },
   "outputs": [],
   "source": [
    "train_final = train_reviews.join(train_businesses.set_index('business_id'), on=['business_id'], lsuffix='_business_id')\n",
    "train_final = train_final.join(train_users.set_index('user_id'), on=['user_id'], lsuffix='_user_id')"
   ]
  },
  {
   "cell_type": "code",
   "execution_count": 6,
   "metadata": {
    "collapsed": true
   },
   "outputs": [],
   "source": [
    "train_final.to_csv('./train_final.csv', index=False)"
   ]
  },
  {
   "cell_type": "code",
   "execution_count": 8,
   "metadata": {
    "collapsed": true
   },
   "outputs": [],
   "source": [
    "train_users_combined = train_users.join(train_tips.set_index('user_id'), lsuffix='_user_id')\n",
    "train_businesses_combined = train_businesses.join(train_business_attributes.set_index('business_id'), lsuffix='_business_id')\n",
    "train_businesses_combined = train_businesses_combined.join(train_business_hours.set_index('business_id'), lsuffix='_business_id')\n",
    "train_businesses_combined = train_businesses_combined.join(train_checkins.set_index('business_id'), lsuffix='_business_id')"
   ]
  },
  {
   "cell_type": "code",
   "execution_count": 12,
   "metadata": {
    "collapsed": true
   },
   "outputs": [],
   "source": [
    "train_users_sample = train_users_combined.sample(n=1000)\n",
    "train_users_sample.to_csv('./train_users_sample.csv', index=False)"
   ]
  },
  {
   "cell_type": "code",
   "execution_count": 13,
   "metadata": {
    "collapsed": true
   },
   "outputs": [],
   "source": [
    "train_businesses_sample = train_users.sample(n=1000)\n",
    "train_businesses_sample.to_csv('./train_businesses_sample.csv', index=False)"
   ]
  },
  {
   "cell_type": "code",
   "execution_count": 14,
   "metadata": {
    "collapsed": true
   },
   "outputs": [],
   "source": [
    "train_reviews_sample = train_reviews.sample(n=1000)\n",
    "train_reviews_sample.to_csv('./train_reviews_sample.csv', index=False)"
   ]
  }
 ],
 "metadata": {
  "kernelspec": {
   "display_name": "Python 3",
   "language": "python",
   "name": "python3"
  },
  "language_info": {
   "codemirror_mode": {
    "name": "ipython",
    "version": 3
   },
   "file_extension": ".py",
   "mimetype": "text/x-python",
   "name": "python",
   "nbconvert_exporter": "python",
   "pygments_lexer": "ipython3",
   "version": "3.6.3"
  }
 },
 "nbformat": 4,
 "nbformat_minor": 2
}
