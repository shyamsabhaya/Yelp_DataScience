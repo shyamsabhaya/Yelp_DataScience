{
 "cells": [
  {
   "cell_type": "code",
   "execution_count": 1,
   "metadata": {
    "collapsed": true
   },
   "outputs": [],
   "source": [
    "import pandas as pd\n",
    "import numpy as np\n",
    "import seaborn as sns\n",
    "import matplotlib.pyplot as plt"
   ]
  },
  {
   "cell_type": "code",
   "execution_count": 2,
   "metadata": {
    "collapsed": true
   },
   "outputs": [],
   "source": [
    "data = pd.read_csv(\"yelp_review.csv\")"
   ]
  },
  {
   "cell_type": "code",
   "execution_count": 4,
   "metadata": {},
   "outputs": [
    {
     "data": {
      "text/html": [
       "<div>\n",
       "<style>\n",
       "    .dataframe thead tr:only-child th {\n",
       "        text-align: right;\n",
       "    }\n",
       "\n",
       "    .dataframe thead th {\n",
       "        text-align: left;\n",
       "    }\n",
       "\n",
       "    .dataframe tbody tr th {\n",
       "        vertical-align: top;\n",
       "    }\n",
       "</style>\n",
       "<table border=\"1\" class=\"dataframe\">\n",
       "  <thead>\n",
       "    <tr style=\"text-align: right;\">\n",
       "      <th></th>\n",
       "      <th>stars</th>\n",
       "      <th>useful</th>\n",
       "      <th>funny</th>\n",
       "      <th>cool</th>\n",
       "    </tr>\n",
       "  </thead>\n",
       "  <tbody>\n",
       "    <tr>\n",
       "      <th>count</th>\n",
       "      <td>5.261668e+06</td>\n",
       "      <td>5.261668e+06</td>\n",
       "      <td>5.261668e+06</td>\n",
       "      <td>5.261668e+06</td>\n",
       "    </tr>\n",
       "    <tr>\n",
       "      <th>mean</th>\n",
       "      <td>3.727739e+00</td>\n",
       "      <td>1.385085e+00</td>\n",
       "      <td>5.091961e-01</td>\n",
       "      <td>5.860917e-01</td>\n",
       "    </tr>\n",
       "    <tr>\n",
       "      <th>std</th>\n",
       "      <td>1.433593e+00</td>\n",
       "      <td>4.528727e+00</td>\n",
       "      <td>2.686168e+00</td>\n",
       "      <td>2.233706e+00</td>\n",
       "    </tr>\n",
       "    <tr>\n",
       "      <th>min</th>\n",
       "      <td>1.000000e+00</td>\n",
       "      <td>-1.000000e+00</td>\n",
       "      <td>0.000000e+00</td>\n",
       "      <td>-1.000000e+00</td>\n",
       "    </tr>\n",
       "    <tr>\n",
       "      <th>25%</th>\n",
       "      <td>3.000000e+00</td>\n",
       "      <td>0.000000e+00</td>\n",
       "      <td>0.000000e+00</td>\n",
       "      <td>0.000000e+00</td>\n",
       "    </tr>\n",
       "    <tr>\n",
       "      <th>50%</th>\n",
       "      <td>4.000000e+00</td>\n",
       "      <td>0.000000e+00</td>\n",
       "      <td>0.000000e+00</td>\n",
       "      <td>0.000000e+00</td>\n",
       "    </tr>\n",
       "    <tr>\n",
       "      <th>75%</th>\n",
       "      <td>5.000000e+00</td>\n",
       "      <td>2.000000e+00</td>\n",
       "      <td>0.000000e+00</td>\n",
       "      <td>1.000000e+00</td>\n",
       "    </tr>\n",
       "    <tr>\n",
       "      <th>max</th>\n",
       "      <td>5.000000e+00</td>\n",
       "      <td>3.364000e+03</td>\n",
       "      <td>1.481000e+03</td>\n",
       "      <td>1.105000e+03</td>\n",
       "    </tr>\n",
       "  </tbody>\n",
       "</table>\n",
       "</div>"
      ],
      "text/plain": [
       "              stars        useful         funny          cool\n",
       "count  5.261668e+06  5.261668e+06  5.261668e+06  5.261668e+06\n",
       "mean   3.727739e+00  1.385085e+00  5.091961e-01  5.860917e-01\n",
       "std    1.433593e+00  4.528727e+00  2.686168e+00  2.233706e+00\n",
       "min    1.000000e+00 -1.000000e+00  0.000000e+00 -1.000000e+00\n",
       "25%    3.000000e+00  0.000000e+00  0.000000e+00  0.000000e+00\n",
       "50%    4.000000e+00  0.000000e+00  0.000000e+00  0.000000e+00\n",
       "75%    5.000000e+00  2.000000e+00  0.000000e+00  1.000000e+00\n",
       "max    5.000000e+00  3.364000e+03  1.481000e+03  1.105000e+03"
      ]
     },
     "execution_count": 4,
     "metadata": {},
     "output_type": "execute_result"
    }
   ],
   "source": [
    "data.describe()"
   ]
  },
  {
   "cell_type": "code",
   "execution_count": 4,
   "metadata": {},
   "outputs": [
    {
     "data": {
      "text/html": [
       "<div>\n",
       "<table border=\"1\" class=\"dataframe\">\n",
       "  <thead>\n",
       "    <tr style=\"text-align: right;\">\n",
       "      <th></th>\n",
       "      <th>review_id</th>\n",
       "      <th>user_id</th>\n",
       "      <th>business_id</th>\n",
       "      <th>stars</th>\n",
       "      <th>date</th>\n",
       "      <th>text</th>\n",
       "      <th>useful</th>\n",
       "      <th>funny</th>\n",
       "      <th>cool</th>\n",
       "    </tr>\n",
       "  </thead>\n",
       "  <tbody>\n",
       "    <tr>\n",
       "      <th>0</th>\n",
       "      <td>vkVSCC7xljjrAI4UGfnKEQ</td>\n",
       "      <td>bv2nCi5Qv5vroFiqKGopiw</td>\n",
       "      <td>AEx2SYEUJmTxVVB18LlCwA</td>\n",
       "      <td>5</td>\n",
       "      <td>2016-05-28</td>\n",
       "      <td>Super simple place but amazing nonetheless. It...</td>\n",
       "      <td>0</td>\n",
       "      <td>0</td>\n",
       "      <td>0</td>\n",
       "    </tr>\n",
       "    <tr>\n",
       "      <th>1</th>\n",
       "      <td>n6QzIUObkYshz4dz2QRJTw</td>\n",
       "      <td>bv2nCi5Qv5vroFiqKGopiw</td>\n",
       "      <td>VR6GpWIda3SfvPC-lg9H3w</td>\n",
       "      <td>5</td>\n",
       "      <td>2016-05-28</td>\n",
       "      <td>Small unassuming place that changes their menu...</td>\n",
       "      <td>0</td>\n",
       "      <td>0</td>\n",
       "      <td>0</td>\n",
       "    </tr>\n",
       "    <tr>\n",
       "      <th>2</th>\n",
       "      <td>MV3CcKScW05u5LVfF6ok0g</td>\n",
       "      <td>bv2nCi5Qv5vroFiqKGopiw</td>\n",
       "      <td>CKC0-MOWMqoeWf6s-szl8g</td>\n",
       "      <td>5</td>\n",
       "      <td>2016-05-28</td>\n",
       "      <td>Lester's is located in a beautiful neighborhoo...</td>\n",
       "      <td>0</td>\n",
       "      <td>0</td>\n",
       "      <td>0</td>\n",
       "    </tr>\n",
       "    <tr>\n",
       "      <th>3</th>\n",
       "      <td>IXvOzsEMYtiJI0CARmj77Q</td>\n",
       "      <td>bv2nCi5Qv5vroFiqKGopiw</td>\n",
       "      <td>ACFtxLv8pGrrxMm6EgjreA</td>\n",
       "      <td>4</td>\n",
       "      <td>2016-05-28</td>\n",
       "      <td>Love coming here. Yes the place always needs t...</td>\n",
       "      <td>0</td>\n",
       "      <td>0</td>\n",
       "      <td>0</td>\n",
       "    </tr>\n",
       "    <tr>\n",
       "      <th>4</th>\n",
       "      <td>L_9BTb55X0GDtThi6GlZ6w</td>\n",
       "      <td>bv2nCi5Qv5vroFiqKGopiw</td>\n",
       "      <td>s2I_Ni76bjJNK9yG60iD-Q</td>\n",
       "      <td>4</td>\n",
       "      <td>2016-05-28</td>\n",
       "      <td>Had their chocolate almond croissant and it wa...</td>\n",
       "      <td>0</td>\n",
       "      <td>0</td>\n",
       "      <td>0</td>\n",
       "    </tr>\n",
       "  </tbody>\n",
       "</table>\n",
       "</div>"
      ],
      "text/plain": [
       "                review_id                 user_id             business_id  \\\n",
       "0  vkVSCC7xljjrAI4UGfnKEQ  bv2nCi5Qv5vroFiqKGopiw  AEx2SYEUJmTxVVB18LlCwA   \n",
       "1  n6QzIUObkYshz4dz2QRJTw  bv2nCi5Qv5vroFiqKGopiw  VR6GpWIda3SfvPC-lg9H3w   \n",
       "2  MV3CcKScW05u5LVfF6ok0g  bv2nCi5Qv5vroFiqKGopiw  CKC0-MOWMqoeWf6s-szl8g   \n",
       "3  IXvOzsEMYtiJI0CARmj77Q  bv2nCi5Qv5vroFiqKGopiw  ACFtxLv8pGrrxMm6EgjreA   \n",
       "4  L_9BTb55X0GDtThi6GlZ6w  bv2nCi5Qv5vroFiqKGopiw  s2I_Ni76bjJNK9yG60iD-Q   \n",
       "\n",
       "   stars        date                                               text  \\\n",
       "0      5  2016-05-28  Super simple place but amazing nonetheless. It...   \n",
       "1      5  2016-05-28  Small unassuming place that changes their menu...   \n",
       "2      5  2016-05-28  Lester's is located in a beautiful neighborhoo...   \n",
       "3      4  2016-05-28  Love coming here. Yes the place always needs t...   \n",
       "4      4  2016-05-28  Had their chocolate almond croissant and it wa...   \n",
       "\n",
       "   useful  funny  cool  \n",
       "0       0      0     0  \n",
       "1       0      0     0  \n",
       "2       0      0     0  \n",
       "3       0      0     0  \n",
       "4       0      0     0  "
      ]
     },
     "execution_count": 4,
     "metadata": {},
     "output_type": "execute_result"
    }
   ],
   "source": [
    "data.head()"
   ]
  },
  {
   "cell_type": "code",
   "execution_count": 3,
   "metadata": {
    "collapsed": true
   },
   "outputs": [],
   "source": [
    "data = data[['stars', 'text']]"
   ]
  },
  {
   "cell_type": "code",
   "execution_count": 6,
   "metadata": {},
   "outputs": [
    {
     "data": {
      "text/html": [
       "<div>\n",
       "<table border=\"1\" class=\"dataframe\">\n",
       "  <thead>\n",
       "    <tr style=\"text-align: right;\">\n",
       "      <th></th>\n",
       "      <th>stars</th>\n",
       "      <th>text</th>\n",
       "    </tr>\n",
       "  </thead>\n",
       "  <tbody>\n",
       "    <tr>\n",
       "      <th>0</th>\n",
       "      <td>5</td>\n",
       "      <td>Super simple place but amazing nonetheless. It...</td>\n",
       "    </tr>\n",
       "    <tr>\n",
       "      <th>1</th>\n",
       "      <td>5</td>\n",
       "      <td>Small unassuming place that changes their menu...</td>\n",
       "    </tr>\n",
       "    <tr>\n",
       "      <th>2</th>\n",
       "      <td>5</td>\n",
       "      <td>Lester's is located in a beautiful neighborhoo...</td>\n",
       "    </tr>\n",
       "    <tr>\n",
       "      <th>3</th>\n",
       "      <td>4</td>\n",
       "      <td>Love coming here. Yes the place always needs t...</td>\n",
       "    </tr>\n",
       "    <tr>\n",
       "      <th>4</th>\n",
       "      <td>4</td>\n",
       "      <td>Had their chocolate almond croissant and it wa...</td>\n",
       "    </tr>\n",
       "  </tbody>\n",
       "</table>\n",
       "</div>"
      ],
      "text/plain": [
       "   stars                                               text\n",
       "0      5  Super simple place but amazing nonetheless. It...\n",
       "1      5  Small unassuming place that changes their menu...\n",
       "2      5  Lester's is located in a beautiful neighborhoo...\n",
       "3      4  Love coming here. Yes the place always needs t...\n",
       "4      4  Had their chocolate almond croissant and it wa..."
      ]
     },
     "execution_count": 6,
     "metadata": {},
     "output_type": "execute_result"
    }
   ],
   "source": [
    "data.head()"
   ]
  },
  {
   "cell_type": "code",
   "execution_count": null,
   "metadata": {
    "scrolled": false
   },
   "outputs": [
    {
     "name": "stdout",
     "output_type": "stream",
     "text": [
      "Making new columns\n",
      "Started 0\n",
      "Started 1\n"
     ]
    }
   ],
   "source": [
    "from WordProcessing import dictionary_make\n",
    "import multiprocessing as mp\n",
    "from multiprocessing.dummy import Pool\n",
    "import sys\n",
    "from collections import Counter\n",
    "\n",
    "print('Making new columns')\n",
    "data['length'] = pd.Series(index=data.index)\n",
    "data['adjectives'] = pd.Series(index=data.index)\n",
    "data['propernouns'] = pd.Series(index=data.index)\n",
    "data['nouns'] = pd.Series(index=data.index)\n",
    "data['adverbs'] = pd.Series(index=data.index)\n",
    "data['verbs'] = pd.Series(index=data.index)\n",
    "\n",
    "n_jobs = 4\n",
    "inputs = np.array_split(data, n_jobs)\n",
    "tasks = []\n",
    "j = 0\n",
    "out = mp.Queue()\n",
    "widgets = mp.Queue()\n",
    "processes = []\n",
    "results = []\n",
    "\n",
    "for i in inputs:\n",
    "    processes.append(mp.Process(target=dictionary_make, args=(i,out,widgets,j)))\n",
    "    j += 1\n",
    "for i in range(n_jobs):\n",
    "    processes[i].start()\n",
    "    print(\"Started \" + str(i))\n",
    "    if (((i + 1) % 2) == 0):\n",
    "        for j in range(i -1, i + 1):\n",
    "            results.append(out.get())\n",
    "        for j in range(i -1, i + 1):\n",
    "            print(\"Making \" + str(j) + \" join\")\n",
    "            processes[j].join()\n",
    "#for p in processes:\n",
    "    #p.start()\n",
    "bars = [widgets.get() for p in processes]\n",
    "for f in bars:\n",
    "    print(f)\n",
    "    \n",
    "#results = [out.get() for p in processes]\n",
    "#print(\"Joining Processes\")\n",
    "#for p in processes:\n",
    "    #p.join()\n",
    "frames = []\n",
    "total_count = Counter()\n",
    "for result in results:\n",
    "    total_count += result[1]\n",
    "    frames.append(result[0])\n",
    "    \n",
    "new_data = pd.concat(frames) \n",
    "  \n",
    "print()\n",
    "print('Number of words to query: ' + str(len(total_count)))\n",
    "print()\n",
    "sys.stdout.flush()\n",
    "print(total_count.most_common(50))\n",
    "print()\n",
    "sys.stdout.flush()\n",
    "new_data.head()"
   ]
  },
  {
   "cell_type": "code",
   "execution_count": null,
   "metadata": {
    "collapsed": true
   },
   "outputs": [],
   "source": [
    "# keep tokens with a min occurrence\n",
    "min_occurance = 6\n",
    "vocab = [k for k,c in dictionary.items() if c >= min_occurance]\n",
    "print('Number of words to query reduced to: ' + str(len(vocab)))\n",
    "\n",
    "#Save dictionary\n",
    "tosave = '\\n'.join(vocab)\n",
    "# open file\n",
    "file = open('vocab3.txt', 'w')\n",
    "# write text\n",
    "file.write(tosave)\n",
    "# close file\n",
    "file.close()"
   ]
  },
  {
   "cell_type": "code",
   "execution_count": null,
   "metadata": {
    "collapsed": true
   },
   "outputs": [],
   "source": [
    "with open(\"dictionary.txt\", \"w+\") as f:\n",
    "    for k,v in  dictionary.most_common():\n",
    "        f.write( \"{} {}\\n\".format(k,v) )"
   ]
  },
  {
   "cell_type": "code",
   "execution_count": null,
   "metadata": {
    "collapsed": true
   },
   "outputs": [],
   "source": [
    "new_data.to_csv(\"text_data.csv\")"
   ]
  },
  {
   "cell_type": "code",
   "execution_count": null,
   "metadata": {
    "collapsed": true
   },
   "outputs": [],
   "source": [
    "def load_doc(filename):\n",
    "    # open the file as read only\n",
    "    file = open(filename, 'r')\n",
    "    # read all text\n",
    "    text = file.read()\n",
    "    # close the file\n",
    "    file.close()\n",
    "    return text\n",
    "\n",
    "def load_vocab():\n",
    "    # load the vocabulary\n",
    "    vocab_filename = 'vocab3.txt'\n",
    "    vocab2 = load_doc(vocab_filename)\n",
    "    vocab2 = vocab2.split()\n",
    "    return set(vocab2)\n",
    "\n",
    "vocab = load_vocab()"
   ]
  },
  {
   "cell_type": "code",
   "execution_count": 7,
   "metadata": {
    "collapsed": true
   },
   "outputs": [],
   "source": [
    "from ipywidgets import FloatProgress\n",
    "from IPython.display import display\n",
    "import time\n",
    "\n",
    "def refresh_data_(data):\n",
    "    data = data.clone()\n",
    "    max_count = len(data)\n",
    "    #progress bar\n",
    "    f = FloatProgress(min=0, max=max_count) # instantiate the bar\n",
    "    display(f) # display the bar\n",
    "    data['length'] = pd.Series(index=data.index)\n",
    "    data['adjectives'] = pd.Series(index=data.index)\n",
    "    data['propernouns'] = pd.Series(index=data.index)\n",
    "    data['nouns'] = pd.Series(index=data.index)\n",
    "    data['adverbs'] = pd.Series(index=data.index)\n",
    "    data['verbs'] = pd.Series(index=data.index)\n",
    "    for index, row in data.iterrows():\n",
    "        tokens, length, adjectives, adverbs, nouns, propernouns, verbs = clean(row['text'], tag=True)\n",
    "        tokens = [w for w in tokens if w in vocab]\n",
    "        row['text'] = ' '.join(tokens)\n",
    "        row['length'] = length\n",
    "        row['adjectives'] = adjectives\n",
    "        row['adverbs'] = adverbs\n",
    "        row['nouns'] = nouns\n",
    "        row['propernouns'] = propernouns\n",
    "        row['verbs'] = verbs\n",
    "        f.value += 1 # signal to increment the progress bar\n",
    "    \n",
    "    return data"
   ]
  },
  {
   "cell_type": "code",
   "execution_count": null,
   "metadata": {
    "collapsed": true
   },
   "outputs": [],
   "source": [
    "from multiprocessing.dummy import Pool as ThreadPool\n",
    "def refresh_data(data, n_jobs = 4):\n",
    "    pool = ThreadPool(n_jobs) \n",
    "    results = pool.map(refresh_data_, data)\n",
    "    \n",
    "    return pd.DataFrame(results)        "
   ]
  },
  {
   "cell_type": "code",
   "execution_count": null,
   "metadata": {
    "collapsed": true
   },
   "outputs": [],
   "source": []
  }
 ],
 "metadata": {
  "anaconda-cloud": {},
  "kernelspec": {
   "display_name": "Python 2",
   "language": "python",
   "name": "python2"
  },
  "language_info": {
   "codemirror_mode": {
    "name": "ipython",
    "version": 2
   },
   "file_extension": ".py",
   "mimetype": "text/x-python",
   "name": "python",
   "nbconvert_exporter": "python",
   "pygments_lexer": "ipython2",
   "version": "2.7.14"
  }
 },
 "nbformat": 4,
 "nbformat_minor": 2
}
